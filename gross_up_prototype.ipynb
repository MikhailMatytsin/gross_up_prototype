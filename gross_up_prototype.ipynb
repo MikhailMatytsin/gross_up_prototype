{
  "nbformat": 4,
  "nbformat_minor": 0,
  "metadata": {
    "colab": {
      "provenance": [],
      "include_colab_link": true
    },
    "kernelspec": {
      "name": "python3",
      "display_name": "Python 3"
    },
    "language_info": {
      "name": "python"
    }
  },
  "cells": [
    {
      "cell_type": "markdown",
      "metadata": {
        "id": "view-in-github",
        "colab_type": "text"
      },
      "source": [
        "<a href=\"https://colab.research.google.com/github/MikhailMatytsin/gross_up_prototype/blob/main/gross_up_prototype.ipynb\" target=\"_parent\"><img src=\"https://colab.research.google.com/assets/colab-badge.svg\" alt=\"Open In Colab\"/></a>"
      ]
    },
    {
      "cell_type": "markdown",
      "source": [],
      "metadata": {
        "id": "ZNgH8QIHrdSw"
      }
    },
    {
      "cell_type": "markdown",
      "source": [
        "Here's a Python translation of your Stata code using pandas and numpy. This version attempts to preserve the structure and logic of your original model, with clear comments to help map concepts from Stata to Python. The code assumes you're working with a single observation (as in your set obs 1) and uses iterative adjustments to align statutory and net incomes.\n",
        "\n"
      ],
      "metadata": {
        "id": "FWTsRNWIrfrA"
      }
    },
    {
      "cell_type": "code",
      "source": [
        "import pandas as pd\n",
        "import numpy as np\n",
        "\n",
        "\n",
        "# PARAMETERS FOR SIMULATIONS\n",
        "pit_rate_b = 0.13\n",
        "sic_rate_b = 0.3\n",
        "\n",
        "pit_rate_r = 0.13\n",
        "sic_rate_r = 0.3\n",
        "\n",
        "pit_pt_b = 1\n",
        "sic_pt_b = 1\n",
        "\n",
        "pit_pt_r = 1\n",
        "sic_pt_r = 1\n",
        "\n",
        "market_income = [\"labor_inc\", \"self_inc\", \"other_inc\"]\n",
        "direct_taxes = [\"pit\"]\n",
        "SSC = [\"sic\"]\n",
        "\n",
        "d = 10**-8\n",
        "report = 1\n",
        "\n",
        "# INITIAL DATA SETUP\n",
        "df = pd.DataFrame({'hh_id': [1], 'p_id': [1], 'labor_inc': [87], 'self_inc': [35], 'other_inc': [50]})"
      ],
      "metadata": {
        "id": "CDZ4s0ZrrmKX"
      },
      "execution_count": 36,
      "outputs": []
    },
    {
      "cell_type": "code",
      "source": [
        "# function that calculates all taxes using the tax base and the tax rate\n",
        "def SSC_direct_taxes_statutory(df, pit_taxable_list, sic_taxable_list):\n",
        "    for tax, rate, pt, taxable_list in [\n",
        "        ('pit', pit_rate, pit_pt, pit_taxable_list),\n",
        "        ('sic', sic_rate, sic_pt, sic_taxable_list)\n",
        "    ]:\n",
        "        df[f'{tax}_base'] = 0\n",
        "        for inc in taxable_list:\n",
        "            df[f'{tax}_base'] += df[f'{inc}_stat']\n",
        "\n",
        "        for inc in taxable_list:\n",
        "            with np.errstate(divide='ignore', invalid='ignore'):\n",
        "                df[f'{tax}_sh_{inc}'] = np.where(\n",
        "                    df[f'{tax}_base'] != 0,\n",
        "                    df[f'{inc}_stat'] / df[f'{tax}_base'],\n",
        "                    0\n",
        "                )\n",
        "\n",
        "        for inc in market_income:\n",
        "            if f'{tax}_sh_{inc}' not in df.columns:\n",
        "                df[f'{tax}_sh_{inc}'] = 0\n",
        "\n",
        "        df[f'{tax}_stat'] = -1 * rate * df[f'{tax}_base']\n",
        "        df[tax] = df[f'{tax}_stat'] * pt\n",
        "\n"
      ],
      "metadata": {
        "id": "bn3bx-RNsSym"
      },
      "execution_count": 37,
      "outputs": []
    },
    {
      "cell_type": "code",
      "source": [
        "# Step 1: Finding statutory wages\n",
        "for inc in market_income:\n",
        "    df[f'{inc}_stat'] = df[inc]\n",
        "    df.rename(columns={f'{inc}': f'{inc}_orig'}, inplace=True)\n",
        "\n",
        "\n",
        "sic_rate = sic_rate_b\n",
        "pit_rate = pit_rate_b\n",
        "\n",
        "sic_pt = sic_pt_b\n",
        "pit_pt = pit_pt_b\n",
        "\n",
        "# Iterative adjustment of statutory income\n",
        "max_gap = d * 2\n",
        "min_gap = 0\n",
        "s = 1\n",
        "\n",
        "\n",
        "\n",
        "while max_gap > d or min_gap < -d:\n",
        "    SSC_direct_taxes_statutory(df, ['labor_inc', 'self_inc'], ['labor_inc'])\n",
        "\n",
        "    for inc in market_income:\n",
        "        df[f'{inc}_net_it'] = df[f'{inc}_stat']\n",
        "        for tax in direct_taxes:\n",
        "            df[f'{inc}_net_it'] += df[f'{tax}_sh_{inc}'] * df[f'{tax}_stat']\n",
        "\n",
        "        df[f'{inc}_gap'] = df[f'{inc}_orig'] - df[f'{inc}_net_it']\n",
        "\n",
        "    # if s % report == 0:\n",
        "        # print(f\"Step {s}\")\n",
        "        # print(df['labor_inc_net_it'].mean())\n",
        "\n",
        "    max_gap = max(df[f'{inc}_gap'].max() for inc in market_income)\n",
        "    min_gap = min(df[f'{inc}_gap'].min() for inc in market_income)\n",
        "\n",
        "    for inc in market_income:\n",
        "        df[f'{inc}_stat'] += df[f'{inc}_gap']\n",
        "\n",
        "    s += 1\n",
        "\n",
        "print(f\"End at step {s}\")\n",
        "# print(df)\n",
        "\n",
        "\n"
      ],
      "metadata": {
        "id": "HkDLFTrQsc58",
        "outputId": "d79606c7-7b4d-4aa3-a4f6-c3fb0e5ce702",
        "colab": {
          "base_uri": "https://localhost:8080/"
        }
      },
      "execution_count": 38,
      "outputs": [
        {
          "output_type": "stream",
          "name": "stdout",
          "text": [
            "End at step 13\n"
          ]
        }
      ]
    },
    {
      "cell_type": "code",
      "source": [
        "# Step 2: Calculate equilibrium income\n",
        "for inc in market_income:\n",
        "    df[inc] = df[f'{inc}_orig']\n",
        "    for tax in SSC + direct_taxes:\n",
        "        df[inc] -= df[f'{tax}_sh_{inc}'] * df[tax]"
      ],
      "metadata": {
        "id": "VX_ERD0SszDh"
      },
      "execution_count": 39,
      "outputs": []
    },
    {
      "cell_type": "code",
      "source": [
        "# Store results for prototype\n",
        "for inc in market_income:\n",
        "    df.rename(columns={f'{inc}_orig': f'{inc}_net_b'}, inplace=True)\n",
        "    df[f'{inc}_eq_b'] = df[inc]\n",
        "    df.rename(columns={f'{inc}_stat': f'{inc}_stat_b'}, inplace=True)\n",
        "\n",
        "for tax in SSC + direct_taxes:\n",
        "    df.rename(columns={f'{tax}': f'{tax}_b'}, inplace=True)\n",
        "    df.rename(columns={f'{tax}_stat': f'{tax}_stat_b'}, inplace=True)\n",
        "    df.rename(columns={f'{tax}_base': f'{tax}_base_b'}, inplace=True)\n",
        "    for inc in market_income:\n",
        "        df.rename(columns={f'{tax}_sh_{inc}': f'{tax}_sh_{inc}_b'}, inplace=True)"
      ],
      "metadata": {
        "id": "_pmkC1Nbt5Ye"
      },
      "execution_count": 40,
      "outputs": []
    },
    {
      "cell_type": "code",
      "source": [
        "# Step 3: Nowcasting\n",
        "for inc in market_income:\n",
        "    df[inc] = df[inc] * 1"
      ],
      "metadata": {
        "id": "ln0YvCg9s3f9"
      },
      "execution_count": 41,
      "outputs": []
    },
    {
      "cell_type": "code",
      "source": [
        "# step 4. calculating the statutory wage for reform case via loop to make sure that the equilibrium wage matches.\n",
        "\n",
        "for inc in market_income:\n",
        "    df[f'{inc}_stat'] = df[inc] # starting point\n",
        "\n",
        "sic_rate = sic_rate_r\n",
        "pit_rate = pit_rate_r\n",
        "\n",
        "sic_pt = sic_pt_r\n",
        "pit_pt = pit_pt_r\n",
        "\n",
        "# Iterative adjustment of statutory income\n",
        "max_gap = d * 2\n",
        "min_gap = 0\n",
        "s = 1\n",
        "\n",
        "while max_gap > d or min_gap < -d:\n",
        "    SSC_direct_taxes_statutory(df, ['labor_inc', 'self_inc'], ['labor_inc'])\n",
        "\n",
        "    for inc in market_income:\n",
        "        df[f'{inc}_net'] = df[f'{inc}_stat']\n",
        "        for tax in direct_taxes:\n",
        "            df[f'{inc}_net'] += df[f'{tax}_sh_{inc}'] * df[f'{tax}_stat']\n",
        "\n",
        "        df[f'{inc}_eq_it'] = df[f'{inc}_net']\n",
        "        for tax in SSC + direct_taxes:\n",
        "            df[f'{inc}_eq_it'] -= df[f'{tax}_sh_{inc}'] * df[f'{tax}_stat']\n",
        "\n",
        "        assert df[f\"{inc}_eq_it\"].notna().all()\n",
        "\n",
        "        df[f'{inc}_gap'] = df[f'{inc}'] - df[f'{inc}_eq_it']\n",
        "\n",
        "   # if s % report == 0:\n",
        "        # print(f\"Step {s}\")\n",
        "        # print(df['labor_inc_net_it'].mean())\n",
        "\n",
        "    max_gap = max(df[f'{inc}_gap'].max() for inc in market_income)\n",
        "    min_gap = min(df[f'{inc}_gap'].min() for inc in market_income)\n",
        "\n",
        "    for inc in market_income:\n",
        "        df[f'{inc}_stat'] += df[f'{inc}_gap']\n",
        "\n",
        "    s += 1\n",
        "\n",
        "print(f\"End at step {s}\")"
      ],
      "metadata": {
        "id": "BIc4SByettqc",
        "outputId": "b16f53b4-88db-4dfe-a8a9-92eb983f3a66",
        "colab": {
          "base_uri": "https://localhost:8080/"
        }
      },
      "execution_count": 42,
      "outputs": [
        {
          "output_type": "stream",
          "name": "stdout",
          "text": [
            "End at step 21\n"
          ]
        }
      ]
    },
    {
      "cell_type": "code",
      "source": [
        "# Store results for prototype\n",
        "for inc in market_income:\n",
        "    df.rename(columns={f'{inc}_net': f'{inc}_net_r'}, inplace=True)\n",
        "    df[f'{inc}_eq_r'] = df[inc]\n",
        "    df.rename(columns={f'{inc}_stat': f'{inc}_stat_r'}, inplace=True)\n",
        "\n",
        "for tax in SSC + direct_taxes:\n",
        "    df.rename(columns={f'{tax}': f'{tax}_r'}, inplace=True)\n",
        "    df.rename(columns={f'{tax}_stat': f'{tax}_stat_r'}, inplace=True)\n",
        "    df.rename(columns={f'{tax}_base': f'{tax}_base_r'}, inplace=True)\n",
        "    for inc in market_income:\n",
        "        df.rename(columns={f'{tax}_sh_{inc}': f'{tax}_sh_{inc}_r'}, inplace=True)"
      ],
      "metadata": {
        "id": "Pn2WW-kct9fA"
      },
      "execution_count": 43,
      "outputs": []
    },
    {
      "cell_type": "code",
      "source": [
        "# print(df.columns)\n",
        "# print(df[['labor_inc_net_b', 'labor_inc_net_r']])\n",
        "for inc in market_income:\n",
        "    print(df[[f'{inc}_net_b', f'{inc}_net_r', f'{inc}_eq_b', f'{inc}_stat_b', f'{inc}_stat_r']])"
      ],
      "metadata": {
        "id": "DJaZKInhty_f",
        "outputId": "858bc7f5-d861-47e8-83bd-4adda2fb54b9",
        "colab": {
          "base_uri": "https://localhost:8080/"
        }
      },
      "execution_count": 44,
      "outputs": [
        {
          "output_type": "stream",
          "name": "stdout",
          "text": [
            "   labor_inc_net_b  labor_inc_net_r  labor_inc_eq_b  labor_inc_stat_b  \\\n",
            "0               87             87.0           130.0             100.0   \n",
            "\n",
            "   labor_inc_stat_r  \n",
            "0             100.0  \n",
            "   self_inc_net_b  self_inc_net_r  self_inc_eq_b  self_inc_stat_b  \\\n",
            "0              35            35.0      40.229885        40.229885   \n",
            "\n",
            "   self_inc_stat_r  \n",
            "0        40.229885  \n",
            "   other_inc_net_b  other_inc_net_r  other_inc_eq_b  other_inc_stat_b  \\\n",
            "0               50             50.0            50.0              50.0   \n",
            "\n",
            "   other_inc_stat_r  \n",
            "0              50.0  \n"
          ]
        }
      ]
    },
    {
      "cell_type": "markdown",
      "source": [
        "**Notes:**\n",
        "\n",
        "\n",
        "* The translation assumes a single-row DataFrame, as in your Stata example.\n",
        "* The compute_taxes() function mimics the Stata program SSC_direct_taxes_statutory.\n",
        "* Handling of missing values is simplified — in production, ensure NaNs are handled robustly.\n",
        "* The code structure supports extension to multiple households if needed by expanding the DataFrame rows.\n",
        "\n",
        "Let me know if you want to modularize this into functions or extend it to support vectorized reform simulations."
      ],
      "metadata": {
        "id": "STruN10orzUO"
      }
    },
    {
      "cell_type": "code",
      "source": [],
      "metadata": {
        "id": "UJ0ln8kmr_iH"
      },
      "execution_count": 44,
      "outputs": []
    }
  ]
}